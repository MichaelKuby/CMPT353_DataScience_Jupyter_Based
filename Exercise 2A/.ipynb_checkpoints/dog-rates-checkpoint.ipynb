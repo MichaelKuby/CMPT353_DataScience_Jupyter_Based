{
 "cells": [
  {
   "cell_type": "code",
   "execution_count": null,
   "id": "40f42cd0",
   "metadata": {},
   "outputs": [],
   "source": [
    "import pandas as pd\n",
    "import numpy as np\n",
    "import matplotlib as mpl\n",
    "import matplotlib.pylab as plt\n",
    "from scipy import stats"
   ]
  },
  {
   "cell_type": "code",
   "execution_count": null,
   "id": "ef5970ca",
   "metadata": {},
   "outputs": [],
   "source": [
    "data = pd.read_csv('dog_rates_tweets.csv')\n",
    "data.index.names = ['tweet number']"
   ]
  },
  {
   "cell_type": "code",
   "execution_count": null,
   "id": "be737952",
   "metadata": {},
   "outputs": [],
   "source": [
    "ratings = data['text'].str.extractall(r'(\\d+(\\.\\d+)?)/10')\n",
    "ratings.drop([1], axis=1, inplace=True)\n",
    "ratings"
   ]
  },
  {
   "cell_type": "code",
   "execution_count": null,
   "id": "7a38e1bd",
   "metadata": {},
   "outputs": [],
   "source": [
    "ratings[0] = ratings[0].astype(float)\n",
    "ratings = ratings.rename(columns={0: 'rating'})"
   ]
  },
  {
   "cell_type": "code",
   "execution_count": null,
   "id": "3aad937d",
   "metadata": {},
   "outputs": [],
   "source": [
    "ratings['outlier'] = ratings['rating'] > 25\n",
    "ratings"
   ]
  },
  {
   "cell_type": "code",
   "execution_count": null,
   "id": "2dde92a2",
   "metadata": {},
   "outputs": [],
   "source": [
    "dates = data['created_at']\n",
    "dates"
   ]
  },
  {
   "cell_type": "code",
   "execution_count": null,
   "id": "edb39349",
   "metadata": {},
   "outputs": [],
   "source": [
    "rated_with_dates = pd.merge(dates, ratings, on='tweet number')\n",
    "rated_with_dates.reset_index\n",
    "rated_with_dates"
   ]
  },
  {
   "cell_type": "code",
   "execution_count": null,
   "id": "2e5e4819",
   "metadata": {},
   "outputs": [],
   "source": [
    "rated_with_dates['time of tweet'] = pd.to_datetime(rated_with_dates['created_at'])\n",
    "rated_with_dates"
   ]
  },
  {
   "cell_type": "code",
   "execution_count": null,
   "id": "4630d205",
   "metadata": {},
   "outputs": [],
   "source": [
    "rated_with_dates.describe()"
   ]
  },
  {
   "cell_type": "code",
   "execution_count": null,
   "id": "eb2804ee",
   "metadata": {},
   "outputs": [],
   "source": [
    "outliers_removed = rated_with_dates[~(rated_with_dates['outlier'])].copy()"
   ]
  },
  {
   "cell_type": "code",
   "execution_count": null,
   "id": "12cdc64b",
   "metadata": {
    "scrolled": true
   },
   "outputs": [],
   "source": [
    "outliers_removed.describe()"
   ]
  },
  {
   "cell_type": "code",
   "execution_count": null,
   "id": "3a5a6692",
   "metadata": {},
   "outputs": [],
   "source": [
    "def to_timestamp_single(data):\n",
    "    return data.timestamp()\n",
    "to_timestamp = np.vectorize(to_timestamp_single, otypes=[np.float64])"
   ]
  },
  {
   "cell_type": "code",
   "execution_count": null,
   "id": "0737eb7c",
   "metadata": {},
   "outputs": [],
   "source": [
    "outliers_removed['timestamp'] = outliers_removed.loc[:, ('time of tweet')].apply(to_timestamp)\n",
    "outliers_removed"
   ]
  },
  {
   "cell_type": "code",
   "execution_count": null,
   "id": "a8770440",
   "metadata": {},
   "outputs": [],
   "source": [
    "fit = stats.linregress(outliers_removed['timestamp'], outliers_removed['rating'])"
   ]
  },
  {
   "cell_type": "code",
   "execution_count": null,
   "id": "269eb7ad",
   "metadata": {},
   "outputs": [],
   "source": [
    "fit.slope, fit.intercept"
   ]
  },
  {
   "cell_type": "markdown",
   "id": "e7afc7b1",
   "metadata": {},
   "source": [
    "# Results"
   ]
  },
  {
   "cell_type": "code",
   "execution_count": null,
   "id": "8ff71000",
   "metadata": {
    "scrolled": true
   },
   "outputs": [],
   "source": [
    "outliers_removed['prediction'] = outliers_removed['timestamp']*fit.slope + fit.intercept\n",
    "outliers_removed"
   ]
  },
  {
   "cell_type": "code",
   "execution_count": null,
   "id": "cc94a63e",
   "metadata": {},
   "outputs": [],
   "source": [
    "plt.xticks(rotation=25)\n",
    "plt.plot(outliers_removed['time of tweet'], outliers_removed['rating'], 'b.', alpha=0.5)\n",
    "plt.plot(outliers_removed['time of tweet'], outliers_removed['prediction'], 'r-', linewidth=3)\n",
    "plt.show()"
   ]
  },
  {
   "cell_type": "code",
   "execution_count": null,
   "id": "942fde09",
   "metadata": {},
   "outputs": [],
   "source": [
    "outliers_removed['prediction'].describe()"
   ]
  }
 ],
 "metadata": {
  "kernelspec": {
   "display_name": "Python 3 (ipykernel)",
   "language": "python",
   "name": "python3"
  },
  "language_info": {
   "codemirror_mode": {
    "name": "ipython",
    "version": 3
   },
   "file_extension": ".py",
   "mimetype": "text/x-python",
   "name": "python",
   "nbconvert_exporter": "python",
   "pygments_lexer": "ipython3",
   "version": "3.9.12"
  }
 },
 "nbformat": 4,
 "nbformat_minor": 5
}
